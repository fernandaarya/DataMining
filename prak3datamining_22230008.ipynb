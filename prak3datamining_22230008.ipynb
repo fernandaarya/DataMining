{
 "cells": [
  {
   "cell_type": "code",
   "execution_count": 1,
   "id": "38d92148-ba8d-45f0-985c-bd14ee3deed2",
   "metadata": {},
   "outputs": [
    {
     "name": "stdout",
     "output_type": "stream",
     "text": [
      "Case Foldinng : barangnya sesuai harapan, cakep dan mulus. penjualnya juga baik dan ramah. overall, puas banget belanja di sini.\n"
     ]
    }
   ],
   "source": [
    "dokumen1=\"Barangnya sesuai harapan, cakep dan mulus. Penjualnya juga baik dan ramah. Overall, puas banget belanja di sini.\"\n",
    "#Case Folding\n",
    "hasil_cf = str.lower(dokumen1)\n",
    "print(\"Case Foldinng : \"+hasil_cf);"
   ]
  },
  {
   "cell_type": "code",
   "execution_count": 3,
   "id": "21eb16d1-0b43-496d-bb75-3680d8c5c694",
   "metadata": {},
   "outputs": [
    {
     "name": "stdout",
     "output_type": "stream",
     "text": [
      "Case Folding : barangnya sesuai harapan, cakep dan mulus. penjualnya juga baik dan ramah. overall, puas banget belanja di sini.\n",
      "Token:\n",
      "['barangnya', 'sesuai', 'harapan', 'cakep', 'dan', 'mulus', 'penjualnya', 'juga', 'baik', 'dan', 'ramah', 'overall', 'puas', 'banget', 'belanja', 'di', 'sini']\n"
     ]
    }
   ],
   "source": [
    "dokumen1=\"Barangnya sesuai harapan, cakep dan mulus. Penjualnya juga baik dan ramah. Overall, puas banget belanja di sini.\"\n",
    "#Case Folding\n",
    "hasil_cf = str.lower(dokumen1)\n",
    "print(\"Case Folding : \"+hasil_cf);\n",
    "\n",
    "#Tokenizing\n",
    "from nltk.tokenize import RegexpTokenizer\n",
    "tokenizer      = RegexpTokenizer(r'\\w+')\n",
    "hasil_token    = tokenizer.tokenize(hasil_cf)\n",
    "print(\"Token:\")\n",
    "print (hasil_token)\n"
   ]
  },
  {
   "cell_type": "code",
   "execution_count": 5,
   "id": "f4a3edfd-7a20-445d-a0fa-d076b78d3758",
   "metadata": {},
   "outputs": [
    {
     "name": "stdout",
     "output_type": "stream",
     "text": [
      "Collecting Sastrawi\n",
      "  Downloading Sastrawi-1.0.1-py2.py3-none-any.whl.metadata (909 bytes)\n",
      "Downloading Sastrawi-1.0.1-py2.py3-none-any.whl (209 kB)\n",
      "Installing collected packages: Sastrawi\n",
      "Successfully installed Sastrawi-1.0.1\n"
     ]
    }
   ],
   "source": [
    "!pip install Sastrawi"
   ]
  },
  {
   "cell_type": "code",
   "execution_count": 1,
   "id": "4d537368-a050-4262-8105-c3cbc1d4b0bc",
   "metadata": {},
   "outputs": [
    {
     "name": "stdout",
     "output_type": "stream",
     "text": [
      "Case Folding : barangnya sesuai harapan, cakep dan mulus. penjualnya juga baik dan ramah. overall, puas banget belanja di sini.\n",
      "Token:\n",
      "['barangnya', 'sesuai', 'harapan', 'cakep', 'dan', 'mulus', 'penjualnya', 'juga', 'baik', 'dan', 'ramah', 'overall', 'puas', 'banget', 'belanja', 'di', 'sini']\n",
      "Hasil Stemming:\n",
      "barang sesuai harap cakep dan mulus jual juga baik dan ramah overall puas banget belanja di sini\n"
     ]
    }
   ],
   "source": [
    "dokumen1=\"Barangnya sesuai harapan, cakep dan mulus. Penjualnya juga baik dan ramah. Overall, puas banget belanja di sini.\"\n",
    "\n",
    "#Case Folding\n",
    "hasil_cf = str.lower(dokumen1)\n",
    "print(\"Case Folding : \"+hasil_cf);\n",
    "\n",
    "#Tokenizing\n",
    "from nltk.tokenize import RegexpTokenizer\n",
    "tokenizer      = RegexpTokenizer(r'\\w+')\n",
    "hasil_token    = tokenizer.tokenize(hasil_cf)\n",
    "print(\"Token:\")\n",
    "print (hasil_token)\n",
    "\n",
    "# Stemming\n",
    "from Sastrawi.Stemmer.StemmerFactory import StemmerFactory\n",
    "factory        = StemmerFactory()\n",
    "stemmer        = factory.create_stemmer()\n",
    "input_stemm    = str(hasil_token)\n",
    "hasil_stemm    = stemmer.stem(input_stemm)\n",
    "print(\"Hasil Stemming:\")\n",
    "print (hasil_stemm)\n"
   ]
  },
  {
   "cell_type": "code",
   "execution_count": 3,
   "id": "ae57707b-237e-4f0f-8aac-3141c999b016",
   "metadata": {},
   "outputs": [
    {
     "name": "stdout",
     "output_type": "stream",
     "text": [
      "Dokumen: Barangnya sesuai harapan, cakep dan mulus. Penjualnya juga baik dan ramah. Overall, puas banget belanja di sini.\n",
      "Case Folding : barangnya sesuai harapan, cakep dan mulus. penjualnya juga baik dan ramah. overall, puas banget belanja di sini.\n",
      "Token:\n",
      "['barangnya', 'sesuai', 'harapan', 'cakep', 'dan', 'mulus', 'penjualnya', 'juga', 'baik', 'dan', 'ramah', 'overall', 'puas', 'banget', 'belanja', 'di', 'sini']\n",
      "Hasil Stemming:\n",
      "barang sesuai harap cakep dan mulus jual juga baik dan ramah overall puas banget belanja di sini\n",
      "Hasil Setelah Stopword Removal:\n",
      "['barang', 'sesuai', 'harap', 'cakep', 'mulus', 'jual', 'baik', 'ramah', 'overall', 'puas', 'banget', 'belanja', 'sini']\n"
     ]
    }
   ],
   "source": [
    "dokumen1=\"Barangnya sesuai harapan, cakep dan mulus. Penjualnya juga baik dan ramah. Overall, puas banget belanja di sini.\"\n",
    "print(\"Dokumen: \"+dokumen1)\n",
    "\n",
    "#Case Folding\n",
    "hasil_cf = str.lower(dokumen1)\n",
    "print(\"Case Folding : \"+hasil_cf);\n",
    "\n",
    "#Tokenizing\n",
    "from nltk.tokenize import RegexpTokenizer\n",
    "tokenizer      = RegexpTokenizer(r'\\w+')\n",
    "hasil_token    = tokenizer.tokenize(hasil_cf)\n",
    "print(\"Token:\")\n",
    "print (hasil_token)\n",
    "\n",
    "# Stemming\n",
    "from Sastrawi.Stemmer.StemmerFactory import StemmerFactory\n",
    "factory        = StemmerFactory()\n",
    "stemmer        = factory.create_stemmer()\n",
    "input_stemm    = str(hasil_token)\n",
    "hasil_stemm    = stemmer.stem(input_stemm)\n",
    "print(\"Hasil Stemming:\")\n",
    "print (hasil_stemm)\n",
    "\n",
    "# Filtering\n",
    "# Tokenisasi ulang hasil stemming\n",
    "token_stemm    = tokenizer.tokenize(hasil_stemm)\n",
    "\n",
    "# Ambil daftar stopwords\n",
    "from Sastrawi.StopWordRemover.StopWordRemoverFactory import StopWordRemoverFactory\n",
    "stop_factory   = StopWordRemoverFactory()\n",
    "stopwords      = stop_factory.get_stop_words()\n",
    "\n",
    "# Hapus stopwords dari hasil stemming\n",
    "hasil_final    = [word for word in token_stemm if word not in stopwords]\n",
    "print(\"Hasil Setelah Stopword Removal:\")\n",
    "print(hasil_final)\n"
   ]
  },
  {
   "cell_type": "code",
   "execution_count": null,
   "id": "5123f2b0-094b-49ad-a79a-0d5937b0fa55",
   "metadata": {},
   "outputs": [],
   "source": []
  }
 ],
 "metadata": {
  "kernelspec": {
   "display_name": "Python [conda env:base] *",
   "language": "python",
   "name": "conda-base-py"
  },
  "language_info": {
   "codemirror_mode": {
    "name": "ipython",
    "version": 3
   },
   "file_extension": ".py",
   "mimetype": "text/x-python",
   "name": "python",
   "nbconvert_exporter": "python",
   "pygments_lexer": "ipython3",
   "version": "3.12.7"
  }
 },
 "nbformat": 4,
 "nbformat_minor": 5
}
